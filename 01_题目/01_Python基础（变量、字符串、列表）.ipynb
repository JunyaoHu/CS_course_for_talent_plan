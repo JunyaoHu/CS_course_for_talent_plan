{
 "cells": [
  {
   "cell_type": "markdown",
   "metadata": {},
   "source": [
    "## 01_Python基础（变量、字符串、列表）"
   ]
  },
  {
   "cell_type": "markdown",
   "metadata": {},
   "source": [
    "### 填空题（10个）\n",
    "\n",
    "根据题干要求，给出输出结果。"
   ]
  },
  {
   "cell_type": "markdown",
   "metadata": {},
   "source": [
    "#### 变量"
   ]
  },
  {
   "cell_type": "markdown",
   "metadata": {},
   "source": [
    "##### 题目 01-01"
   ]
  },
  {
   "cell_type": "code",
   "execution_count": null,
   "metadata": {},
   "outputs": [],
   "source": [
    "print(5 + 2.0)\n",
    "print(\"5\" + \"2\")\n",
    "print(5 + \"2\")\n",
    "print(\"10 divided by 2 is: \" + 10 / 2)\n"
   ]
  },
  {
   "cell_type": "markdown",
   "metadata": {},
   "source": [
    "##### 题目 01-02"
   ]
  },
  {
   "cell_type": "code",
   "execution_count": null,
   "metadata": {},
   "outputs": [],
   "source": [
    "print(4/2)\n",
    "print(int(5/2))\n",
    "print(4/2 == 2)\n",
    "print(0.1+0.2 == 0.3)"
   ]
  },
  {
   "cell_type": "markdown",
   "metadata": {},
   "source": [
    "##### 题目 01-03"
   ]
  },
  {
   "cell_type": "code",
   "execution_count": null,
   "metadata": {},
   "outputs": [],
   "source": [
    "print(5 > 0 and 6 > 1 + 6)\n",
    "print(not (5 > 0 and 6 > 1 + 6))\n",
    "print( -1 > 0 or \"星铁\")\n",
    "print( 1 > 0 and \"原神\")"
   ]
  },
  {
   "cell_type": "markdown",
   "metadata": {},
   "source": [
    "#### 字符串"
   ]
  },
  {
   "cell_type": "markdown",
   "metadata": {},
   "source": [
    "##### 题目 01-04"
   ]
  },
  {
   "cell_type": "code",
   "execution_count": null,
   "metadata": {},
   "outputs": [],
   "source": [
    "name1 = \"Alice\"\n",
    "name2 = \"Bob\"\n",
    "greeting = \"heLLO, \".capitalize() + name1.upper() + \" and \" + name2.lower()\n",
    "print(greeting)"
   ]
  },
  {
   "cell_type": "markdown",
   "metadata": {},
   "source": [
    "##### 题目 01-05"
   ]
  },
  {
   "cell_type": "code",
   "execution_count": null,
   "metadata": {},
   "outputs": [],
   "source": [
    "sentence = \"Python is fun!\"\n",
    "print(len(sentence))\n",
    "\n",
    "new_sentence = sentence.replace(\"n\", \"N\").split()[-1][::-1]\n",
    "print(new_sentence)"
   ]
  },
  {
   "cell_type": "markdown",
   "metadata": {},
   "source": [
    "##### 题目 01-06"
   ]
  },
  {
   "cell_type": "code",
   "execution_count": null,
   "metadata": {},
   "outputs": [],
   "source": [
    "price = 9.15\n",
    "object = \"--T-shirt---\"\n",
    "\n",
    "formatted = \"The price is ${:.1f}.\".format(price)\n",
    "print(formatted)\n",
    "\n",
    "formatted = f\"The price of the {object.strip('-')} is ${price:.2f}.\"\n",
    "print(formatted)"
   ]
  },
  {
   "cell_type": "markdown",
   "metadata": {},
   "source": [
    "#### 列表"
   ]
  },
  {
   "cell_type": "markdown",
   "metadata": {},
   "source": [
    "##### 题目 01-07"
   ]
  },
  {
   "cell_type": "code",
   "execution_count": null,
   "metadata": {},
   "outputs": [],
   "source": [
    "my_list = [3, 5, 7, 9, 11, 15, 17]\n",
    "\n",
    "print(sum(my_list[:3]))\n",
    "print(len(my_list[-2:]))"
   ]
  },
  {
   "cell_type": "markdown",
   "metadata": {},
   "source": [
    "##### 题目 01-08"
   ]
  },
  {
   "cell_type": "code",
   "execution_count": null,
   "metadata": {},
   "outputs": [],
   "source": [
    "fruits = [\"apple\", \"banana\", \"cherry\"]\n",
    "\n",
    "fruits.append(\"date\")\n",
    "print(fruits)\n",
    "\n",
    "fruits.remove(\"apple\")\n",
    "print(fruits)\n",
    "\n",
    "fruits.pop(1)\n",
    "print(fruits)\n",
    "\n",
    "fruits.insert(2, \"666\")\n",
    "print(fruits)\n",
    "\n",
    "del fruits[-1]\n",
    "print(fruits)\n",
    "\n",
    "fruits.clear()\n",
    "print(fruits)"
   ]
  },
  {
   "cell_type": "markdown",
   "metadata": {},
   "source": [
    "##### 题目 01-09"
   ]
  },
  {
   "cell_type": "code",
   "execution_count": null,
   "metadata": {},
   "outputs": [],
   "source": [
    "list1 = [1, 2, 3]\n",
    "\n",
    "combined_list1 = (list1 + [list1])\n",
    "print(combined_list1)\n",
    "\n",
    "combined_list2 = list1.extend([4,5,6])\n",
    "print(list1)\n",
    "print(combined_list2)"
   ]
  },
  {
   "cell_type": "markdown",
   "metadata": {},
   "source": [
    "##### 题目 01-10"
   ]
  },
  {
   "cell_type": "code",
   "execution_count": null,
   "metadata": {},
   "outputs": [],
   "source": [
    "colors = [\"red\", \"green\", \"blue\"]\n",
    "more_colors1 = colors.copy()\n",
    "more_colors1.append(\"yellow\")\n",
    "print(colors)\n",
    "print(more_colors1)\n",
    "\n",
    "more_colors2 = colors\n",
    "more_colors2.append(\"yellow\")\n",
    "print(colors)\n",
    "print(more_colors2)"
   ]
  },
  {
   "cell_type": "markdown",
   "metadata": {},
   "source": [
    "### 编程题（2个）\n",
    "\n",
    "根据题干要求，编写完整代码（可以尝试一题多解）。"
   ]
  },
  {
   "cell_type": "markdown",
   "metadata": {},
   "source": [
    "##### 题目 01-11\n",
    "\n",
    "编写一个程序，计算给定列表 $[0.12, 0.15, 0.17]$ 中所有元素的平均值，并将结果打印出来，保留两位小数。输出格式：“平均值为: xxx.xx”"
   ]
  },
  {
   "cell_type": "code",
   "execution_count": null,
   "metadata": {},
   "outputs": [],
   "source": [
    "numbers = [0.12, 0.15, 0.17]\n",
    "\n",
    "# now, code it by yourself"
   ]
  },
  {
   "cell_type": "markdown",
   "metadata": {},
   "source": [
    "##### 题目 01-12\n",
    "\n",
    "编写一个程序，交换给定列表 $[1, 2, 3, 4, 5]$ 中指定位置 0 和 1 的两个元素，并将交换后的列表打印出来。"
   ]
  },
  {
   "cell_type": "code",
   "execution_count": null,
   "metadata": {},
   "outputs": [],
   "source": [
    "num = [1, 2, 3, 4, 5]\n",
    "index1 = 0\n",
    "index2 = 1\n",
    "\n",
    "# now, code it by yourself"
   ]
  }
 ],
 "metadata": {
  "kernelspec": {
   "display_name": "hjy",
   "language": "python",
   "name": "python3"
  },
  "language_info": {
   "codemirror_mode": {
    "name": "ipython",
    "version": 3
   },
   "file_extension": ".py",
   "mimetype": "text/x-python",
   "name": "python",
   "nbconvert_exporter": "python",
   "pygments_lexer": "ipython3",
   "version": "3.9.16"
  }
 },
 "nbformat": 4,
 "nbformat_minor": 2
}
