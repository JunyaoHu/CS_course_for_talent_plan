{
 "cells": [
  {
   "cell_type": "markdown",
   "metadata": {},
   "source": [
    "## 03_Python基础（缩进、条件语句、循环语句）"
   ]
  },
  {
   "cell_type": "markdown",
   "metadata": {},
   "source": [
    "### 填空题（10个）\n",
    "\n",
    "根据题干要求，给出输出结果。"
   ]
  },
  {
   "cell_type": "markdown",
   "metadata": {},
   "source": [
    "##### 题目 01-01"
   ]
  },
  {
   "cell_type": "code",
   "execution_count": null,
   "metadata": {},
   "outputs": [],
   "source": [
    "a = '8'\n",
    "if a >= '10':\n",
    "    print(\"a is greater than or equal to 10\")\n",
    "else:\n",
    "    print(\"a is less than 10\")"
   ]
  },
  {
   "cell_type": "markdown",
   "metadata": {},
   "source": [
    "##### 题目 01-02"
   ]
  },
  {
   "cell_type": "code",
   "execution_count": null,
   "metadata": {},
   "outputs": [],
   "source": [
    "score = 85\n",
    "if score >= 90:\n",
    "    print(\"Grade A\")\n",
    "elif score >= 80:\n",
    "    print(\"Grade B\")\n",
    "elif score >= 70:\n",
    "    print(\"Grade C\")\n",
    "else:\n",
    "    print(\"Grade F\")"
   ]
  },
  {
   "cell_type": "markdown",
   "metadata": {},
   "source": [
    "##### 题目 01-03"
   ]
  },
  {
   "cell_type": "code",
   "execution_count": null,
   "metadata": {},
   "outputs": [],
   "source": [
    "a = 0\n",
    "if a:\n",
    "    print(\"a is zero\")\n",
    "print(\"The next print statement will run\")"
   ]
  },
  {
   "cell_type": "markdown",
   "metadata": {},
   "source": [
    "##### 题目 01-04"
   ]
  },
  {
   "cell_type": "code",
   "execution_count": null,
   "metadata": {},
   "outputs": [],
   "source": [
    "count = 0\n",
    "while count < 5:\n",
    "    count += 1\n",
    "    if count == 3:\n",
    "        continue\n",
    "    print(count)"
   ]
  },
  {
   "cell_type": "markdown",
   "metadata": {},
   "source": [
    "##### 题目 01-05"
   ]
  },
  {
   "cell_type": "code",
   "execution_count": null,
   "metadata": {},
   "outputs": [],
   "source": [
    "for _ in range(10):\n",
    "    if _ % 2 == 0:\n",
    "        continue\n",
    "    elif _ == 5:\n",
    "        break\n",
    "    else:\n",
    "        print(\"老大，想你了\")\n",
    "else:\n",
    "    print(\"孩子们，这并不好笑\")"
   ]
  },
  {
   "cell_type": "markdown",
   "metadata": {},
   "source": [
    "##### 题目 01-06"
   ]
  },
  {
   "cell_type": "code",
   "execution_count": null,
   "metadata": {},
   "outputs": [],
   "source": [
    "for i in range(1,5):\n",
    "    for j in range(1,4):\n",
    "        print(i * j, end=' ')\n",
    "        if i * j >= 4:\n",
    "            break\n",
    "    print()"
   ]
  },
  {
   "cell_type": "markdown",
   "metadata": {},
   "source": [
    "##### 题目 01-07"
   ]
  },
  {
   "cell_type": "code",
   "execution_count": null,
   "metadata": {},
   "outputs": [],
   "source": [
    "for i in range(3):\n",
    "    for j in range(2):\n",
    "        if i == 1:\n",
    "            continue\n",
    "        print(f\"i: {i}, j: {j}\")"
   ]
  },
  {
   "cell_type": "markdown",
   "metadata": {},
   "source": [
    "##### 题目 01-08"
   ]
  },
  {
   "cell_type": "code",
   "execution_count": null,
   "metadata": {},
   "outputs": [],
   "source": [
    "my_list = ['1', '2', '3', '4', '5']\n",
    "for item in my_list:\n",
    "    if item == '3':\n",
    "        my_list.remove('4')\n",
    "    print(item)"
   ]
  },
  {
   "cell_type": "markdown",
   "metadata": {},
   "source": [
    "##### 题目 01-09"
   ]
  },
  {
   "cell_type": "code",
   "execution_count": null,
   "metadata": {},
   "outputs": [],
   "source": [
    "x = 1\n",
    "while True:\n",
    "    x *= 2\n",
    "    if x > 8:\n",
    "        break\n",
    "    print(x)"
   ]
  },
  {
   "cell_type": "markdown",
   "metadata": {},
   "source": [
    "##### 题目 01-10"
   ]
  },
  {
   "cell_type": "code",
   "execution_count": null,
   "metadata": {},
   "outputs": [],
   "source": [
    "菜谱 = [\n",
    "    {\n",
    "        \"名称\": \"西红柿炒鸡蛋\",\n",
    "        \"步骤\": [\n",
    "            {\"描述\": \"西红柿洗净切块。\", \"食材\": [\"西红柿\"]},\n",
    "            {\"描述\": \"鸡蛋打入碗中搅拌均匀。\", \"食材\": [\"鸡蛋\", \"盐\", \"料酒\"]}\n",
    "        ]\n",
    "    },\n",
    "    {\n",
    "        \"名称\": \"鱼香肉丝\",\n",
    "        \"步骤\": [\n",
    "            {\"描述\": \"将猪肉切成细丝。\", \"食材\": [\"猪肉\", \"淀粉\", \"料酒\"]},\n",
    "            {\"描述\": \"胡萝卜、青椒切丝备用。\", \"食材\": [\"胡萝卜\", \"青椒\"]}\n",
    "        ]\n",
    "    }\n",
    "]\n",
    "\n",
    "for 菜 in 菜谱:\n",
    "    print(f\"{菜['名称']}\")\n",
    "    for 步骤 in 菜[\"步骤\"]:\n",
    "        print(f\"  {步骤['描述']}\")\n",
    "        for 食材 in 步骤[\"食材\"]:\n",
    "            if 食材 not in [\"盐\", \"料酒\"]:\n",
    "                print(f\"    {食材}\")\n",
    "            else:\n",
    "                print(f\"    其他：{食材}\")"
   ]
  },
  {
   "cell_type": "markdown",
   "metadata": {},
   "source": [
    "### 编程题（2个）\n",
    "\n",
    "根据题干要求，编写完整代码（可以尝试一题多解）。"
   ]
  },
  {
   "attachments": {
    "image.png": {
     "image/png": "[encoded data removed]"
    }
   },
   "cell_type": "markdown",
   "metadata": {},
   "source": [
    "##### 题目 01-11\n",
    "\n",
    "2023年高考数学全国甲卷\n",
    "\n",
    "![image.png](attachment:image.png)\n",
    "\n"
   ]
  },
  {
   "cell_type": "code",
   "execution_count": null,
   "metadata": {},
   "outputs": [],
   "source": [
    "# 已知数据\n",
    "n = 1\n",
    "A = 1\n",
    "B = 2\n",
    "\n",
    "# now, code it by yourself ↓\n",
    "\n",
    "# now, code it by yourself ↑"
   ]
  },
  {
   "cell_type": "markdown",
   "metadata": {},
   "source": [
    "##### 题目 01-12\n",
    "\n",
    "编写一个程序，完成如下成绩输出。"
   ]
  },
  {
   "cell_type": "markdown",
   "metadata": {},
   "source": [
    "假设你正在编写一个程序来管理一个小型图书馆的图书借阅情况。图书馆有一些图书，每本书有一个唯一的编号、书名和借阅状态（已借出或可借）。请编写一个Python程序，该程序能够接收图书馆的图书列表，并允许用户查询特定图书的借阅状态。如果图书已借出，程序应显示“已借出”，如果图书可借，则显示“可借”。如果用户查询的图书不存在，程序应显示“图书不存在”。"
   ]
  },
  {
   "cell_type": "code",
   "execution_count": null,
   "metadata": {},
   "outputs": [],
   "source": [
    "books = [\n",
    "    {\"编号\": 101, \"书名\": \"Python基础教程\", \"状态\": \"可借\"},\n",
    "    {\"编号\": 102, \"书名\": \"高等数学\", \"状态\": \"已借出\"},\n",
    "    {\"编号\": 103, \"书名\": \"英语语法\", \"状态\": \"可借\"},\n",
    "    {\"编号\": 104, \"书名\": \"计算机网络\", \"状态\": \"已借出\"}\n",
    "]\n",
    "\n",
    "# 用户输入要查询的书名\n",
    "query_book = input(\"请输入要查询的书名：\")\n",
    "\n",
    "# now, code it by yourself ↓\n",
    "\n",
    "# now, code it by yourself ↑"
   ]
  }
 ],
 "metadata": {
  "kernelspec": {
   "display_name": "hjy",
   "language": "python",
   "name": "python3"
  },
  "language_info": {
   "codemirror_mode": {
    "name": "ipython",
    "version": 3
   },
   "file_extension": ".py",
   "mimetype": "text/x-python",
   "name": "python",
   "nbconvert_exporter": "python",
   "pygments_lexer": "ipython3",
   "version": "3.9.16"
  }
 },
 "nbformat": 4,
 "nbformat_minor": 2
}
