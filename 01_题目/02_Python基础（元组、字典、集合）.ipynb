{
 "cells": [
  {
   "cell_type": "markdown",
   "metadata": {},
   "source": [
    "## 02_Python基础（元组、字典、集合）"
   ]
  },
  {
   "cell_type": "markdown",
   "metadata": {},
   "source": [
    "### 填空题（10个）\n",
    "\n",
    "根据题干要求，给出输出结果。"
   ]
  },
  {
   "cell_type": "markdown",
   "metadata": {},
   "source": [
    "#### 元组"
   ]
  },
  {
   "cell_type": "markdown",
   "metadata": {},
   "source": [
    "##### 题目 01-01"
   ]
  },
  {
   "cell_type": "code",
   "execution_count": null,
   "metadata": {},
   "outputs": [],
   "source": [
    "tuple1 = (1, 2, 3, 4, 5)\n",
    "print(tuple1[2])\n",
    "\n",
    "tuple2 = ('a', 'b', 'c', 'd')\n",
    "print(tuple2[-1])\n",
    "\n",
    "tuple3 = (10, 20, 30, 40, 50)\n",
    "element = tuple3[2:4]\n",
    "print(element)\n",
    "total = sum(tuple3)\n",
    "print(total)"
   ]
  },
  {
   "cell_type": "markdown",
   "metadata": {},
   "source": [
    "##### 题目 01-02"
   ]
  },
  {
   "cell_type": "code",
   "execution_count": null,
   "metadata": {},
   "outputs": [],
   "source": [
    "tuple4 = (5, 10, 15, 20, 25)\n",
    "even_numbers = filter(lambda x: x % 2 == 0, tuple4)\n",
    "print(list(even_numbers))\n",
    "\n",
    "tuple5 = ('apple', 'banana', 'cherry')\n",
    "first_letter = map(lambda x: x[0], tuple5)\n",
    "print(list(first_letter))"
   ]
  },
  {
   "cell_type": "markdown",
   "metadata": {},
   "source": [
    "##### 题目 01-03"
   ]
  },
  {
   "cell_type": "code",
   "execution_count": null,
   "metadata": {},
   "outputs": [],
   "source": [
    "test_list1 = ['a','b','c']\n",
    "test_list2 = ('x','y','z')\n",
    "\n",
    "print(tuple(test_list1))\n",
    "print(list(test_list2))\n",
    "\n",
    "test_list1[0] = '哈吉米'\n",
    "# test_list2[0] = '哈吉米'\n",
    "\n",
    "print(test_list1)\n",
    "print(test_list2)"
   ]
  },
  {
   "cell_type": "markdown",
   "metadata": {},
   "source": [
    "#### 字典"
   ]
  },
  {
   "cell_type": "markdown",
   "metadata": {},
   "source": [
    "##### 题目 01-04"
   ]
  },
  {
   "cell_type": "code",
   "execution_count": null,
   "metadata": {},
   "outputs": [],
   "source": [
    "my_dict = {'a': 1, 'b': 2, 'c': 3}\n",
    "print(my_dict['b'])\n",
    "# print(my_dict['666'])\n",
    "\n",
    "my_dict = {\n",
    "    'name': 'Alice', \n",
    "    'age': 25\n",
    "}\n",
    "print(my_dict.get('知识学爆', \"雪豹\"))"
   ]
  },
  {
   "cell_type": "markdown",
   "metadata": {},
   "source": [
    "##### 题目 01-05"
   ]
  },
  {
   "cell_type": "code",
   "execution_count": null,
   "metadata": {},
   "outputs": [],
   "source": [
    "my_dict = {'a': 1, 'b': 2, 'c': 3}\n",
    "print(list(my_dict.items()))\n",
    "print(list(my_dict.keys()))\n",
    "print(list(my_dict.values()))"
   ]
  },
  {
   "cell_type": "markdown",
   "metadata": {},
   "source": [
    "##### 题目 01-06"
   ]
  },
  {
   "cell_type": "code",
   "execution_count": null,
   "metadata": {},
   "outputs": [],
   "source": [
    "my_class = {\n",
    "    '10000': {'name': 'Alice', 'age': 18},\n",
    "    '10001': {'name': 'Bob', 'age': 19},\n",
    "}\n",
    "\n",
    "print(my_class)\n",
    "\n",
    "new_stu = {'name': 'Cindy', 'age': 20}\n",
    "\n",
    "my_class['10002'] =  new_stu\n",
    "print(my_class)\n",
    "\n",
    "del my_class['10000']\n",
    "print(my_class)\n",
    "\n",
    "new_stu['age'] = 21\n",
    "print(my_class)"
   ]
  },
  {
   "cell_type": "markdown",
   "metadata": {},
   "source": [
    "#### 集合"
   ]
  },
  {
   "cell_type": "markdown",
   "metadata": {},
   "source": [
    "##### 题目 01-07"
   ]
  },
  {
   "cell_type": "code",
   "execution_count": null,
   "metadata": {},
   "outputs": [],
   "source": [
    "set1 = {1, 2, 3, 4, 5}\n",
    "set2 = {4, 5, 6, 7, 8}\n",
    "print(set1 & set2)\n",
    "\n",
    "set1 = {1, 2, 3}\n",
    "set2 = {3, 4, 5}\n",
    "print(set1 | set2)\n",
    "\n",
    "set1 = {1, 2, 3}\n",
    "set2 = {2, 3, 4}\n",
    "print(set1 - set2)\n",
    "\n",
    "set1 = {1, 2, 3, 4}\n",
    "set2 = {3, 4, 5, 6}\n",
    "print(set1 ^ set2)\n",
    "\n",
    "set1 = {1, 2, 3}\n",
    "set2 = {3, 4, 5}\n",
    "set3 = {5, 6, 7}\n",
    "common_elements = set1 & set2 & set3\n",
    "print(common_elements)"
   ]
  },
  {
   "cell_type": "markdown",
   "metadata": {},
   "source": [
    "##### 题目 01-08"
   ]
  },
  {
   "cell_type": "code",
   "execution_count": null,
   "metadata": {},
   "outputs": [],
   "source": [
    "set1 = {1, 2, 4, 8}\n",
    "set2 = {4, 8, 16, 32}\n",
    "print(set1.symmetric_difference(set2))\n",
    "\n",
    "set_example = {1, 3, 5, 7, 9}\n",
    "subset = {1, 3}\n",
    "print(subset.issubset(set_example))\n",
    "print(subset < set_example)\n",
    "print(subset <= set_example)"
   ]
  },
  {
   "cell_type": "markdown",
   "metadata": {},
   "source": [
    "##### 题目 01-09"
   ]
  },
  {
   "cell_type": "code",
   "execution_count": null,
   "metadata": {},
   "outputs": [],
   "source": [
    "numbers1 = [x**2 for x in range(10)]\n",
    "print(numbers1)\n",
    "print()\n",
    "\n",
    "numbers2 = (x**2 for x in range(10))\n",
    "print(numbers2)\n",
    "print(list(numbers2))\n",
    "print()\n",
    "\n",
    "numbers3 = {x**2 for x in range(10)}\n",
    "print(numbers3)\n",
    "print(sorted(numbers3))\n",
    "print()\n",
    "\n",
    "numbers4 = {x:x**2 for x in range(10)}\n",
    "print(numbers4)\n",
    "print(list(numbers4.values()))\n",
    "print()\n"
   ]
  },
  {
   "cell_type": "markdown",
   "metadata": {},
   "source": [
    "##### 题目 01-10"
   ]
  },
  {
   "cell_type": "code",
   "execution_count": null,
   "metadata": {},
   "outputs": [],
   "source": [
    "# 定义一个字符串\n",
    "text = \"The quick brown fox jumps over the lazy dog\"\n",
    "\n",
    "# 使用字典来计算文本中每个单词出现的次数\n",
    "word_counts = {}\n",
    "for word in text.split():\n",
    "    word = word.lower()  # 转换为小写\n",
    "    word_counts[word] = word_counts.get(word, 0) + 1\n",
    "\n",
    "# 找出出现次数最多的单词\n",
    "most_common_word = max(word_counts, key=word_counts.get)\n",
    "\n",
    "print(f\"出现次数最多的单词是: '{most_common_word}'，出现了 {word_counts[most_common_word]} 次\")"
   ]
  },
  {
   "cell_type": "markdown",
   "metadata": {},
   "source": [
    "### 编程题（2个）\n",
    "\n",
    "根据题干要求，编写完整代码（可以尝试一题多解）。"
   ]
  },
  {
   "cell_type": "markdown",
   "metadata": {},
   "source": [
    "##### 题目 01-11\n",
    "\n",
    "2023年天津市高考数学第一题\n",
    "\n",
    "已知集合 $U=\\{1,2,3,4,5\\}$,  $A = \\{1,3\\}$,  $B = \\{1,2,4\\}$, 则  $C_{U} B \\cup A =$\n",
    "\n"
   ]
  },
  {
   "cell_type": "code",
   "execution_count": null,
   "metadata": {},
   "outputs": [],
   "source": [
    "# 已知集合\n",
    "U = {1, 2, 3, 4, 5}\n",
    "A = {1, 3}\n",
    "B = {1, 2, 4}\n",
    "\n",
    "# now, code it by yourself ↓\n",
    "\n",
    "# 定义集合 U, A, B\n",
    "\n",
    "# 计算集合U关于集合B的补集 C_{U}B\n",
    "\n",
    "# 计算 C_{U}B 和 A 的并集\n",
    "\n",
    "# now, code it by yourself ↑\n",
    "\n",
    "# 打印结果\n",
    "print(f\"Answer = {result}\")"
   ]
  },
  {
   "cell_type": "markdown",
   "metadata": {},
   "source": [
    "##### 题目 01-12\n",
    "\n",
    "编写一个程序，完成如下成绩输出。"
   ]
  },
  {
   "cell_type": "code",
   "execution_count": null,
   "metadata": {},
   "outputs": [],
   "source": [
    "student_scores = {\n",
    "    'Alice': 90,\n",
    "    'Bob': 94,\n",
    "    'Charlie': 96,\n",
    "    'David': 94\n",
    "}\n",
    "\n",
    "# now, code it by yourself ↓\n",
    "\n",
    "\n",
    "# now, code it by yourself ↑\n",
    "\n",
    "print(f\"学生名单: {students}\")\n",
    "print(f\"平均分: {average_score:.2f}\")\n",
    "print(f\"分数最高的学生是: {highest_score}，分数为: {highest_score_value}\")"
   ]
  }
 ],
 "metadata": {
  "kernelspec": {
   "display_name": "hjy",
   "language": "python",
   "name": "python3"
  },
  "language_info": {
   "codemirror_mode": {
    "name": "ipython",
    "version": 3
   },
   "file_extension": ".py",
   "mimetype": "text/x-python",
   "name": "python",
   "nbconvert_exporter": "python",
   "pygments_lexer": "ipython3",
   "version": "3.9.16"
  }
 },
 "nbformat": 4,
 "nbformat_minor": 2
}
