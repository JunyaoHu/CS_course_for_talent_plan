{
 "cells": [
  {
   "cell_type": "markdown",
   "metadata": {},
   "source": [
    "## 02_Python基础（元组、字典、集合）"
   ]
  },
  {
   "cell_type": "markdown",
   "metadata": {},
   "source": [
    "### 填空题（10个）\n",
    "\n",
    "根据题干要求，给出输出结果。"
   ]
  },
  {
   "cell_type": "markdown",
   "metadata": {},
   "source": [
    "#### 元组"
   ]
  },
  {
   "cell_type": "markdown",
   "metadata": {},
   "source": [
    "##### 题目 01-01"
   ]
  },
  {
   "cell_type": "code",
   "execution_count": 116,
   "metadata": {},
   "outputs": [
    {
     "name": "stdout",
     "output_type": "stream",
     "text": [
      "3\n",
      "d\n",
      "(30, 40)\n",
      "150\n"
     ]
    }
   ],
   "source": [
    "tuple1 = (1, 2, 3, 4, 5)\n",
    "print(tuple1[2])\n",
    "\n",
    "tuple2 = ('a', 'b', 'c', 'd')\n",
    "print(tuple2[-1])\n",
    "\n",
    "tuple3 = (10, 20, 30, 40, 50)\n",
    "element = tuple3[2:4]\n",
    "print(element)\n",
    "total = sum(tuple3)\n",
    "print(total)"
   ]
  },
  {
   "cell_type": "markdown",
   "metadata": {},
   "source": [
    "##### 题目 01-02"
   ]
  },
  {
   "cell_type": "code",
   "execution_count": 117,
   "metadata": {},
   "outputs": [
    {
     "name": "stdout",
     "output_type": "stream",
     "text": [
      "[10, 20]\n",
      "['a', 'b', 'c']\n"
     ]
    }
   ],
   "source": [
    "tuple4 = (5, 10, 15, 20, 25)\n",
    "even_numbers = filter(lambda x: x % 2 == 0, tuple4)\n",
    "print(list(even_numbers))\n",
    "\n",
    "tuple5 = ('apple', 'banana', 'cherry')\n",
    "first_letter = map(lambda x: x[0], tuple5)\n",
    "print(list(first_letter))"
   ]
  },
  {
   "cell_type": "markdown",
   "metadata": {},
   "source": [
    "这部分代码创建了一个元组tuple4，包含整数5到25。然后，使用filter()函数和一个lambda表达式来筛选出元组中的偶数。lambda表达式lambda x: x % 2 == 0是一个匿名函数，它接受一个参数x并检查x是否为偶数（即x除以2的余数是否为0）。\n",
    "\n",
    "这部分代码创建了一个元组tuple5，包含三个字符串。然后，使用map()函数和一个lambda表达式来获取每个字符串的第一个字符。lambda表达式lambda x: x[0]接受一个参数x并返回x的第一个字符（即索引为0的元素）。"
   ]
  },
  {
   "cell_type": "markdown",
   "metadata": {},
   "source": [
    "##### 题目 01-03"
   ]
  },
  {
   "cell_type": "code",
   "execution_count": 118,
   "metadata": {},
   "outputs": [
    {
     "name": "stdout",
     "output_type": "stream",
     "text": [
      "('a', 'b', 'c')\n",
      "['x', 'y', 'z']\n",
      "['哈吉米', 'b', 'c']\n",
      "('x', 'y', 'z')\n"
     ]
    }
   ],
   "source": [
    "test_list1 = ['a','b','c']\n",
    "test_list2 = ('x','y','z')\n",
    "\n",
    "print(tuple(test_list1))\n",
    "print(list(test_list2))\n",
    "\n",
    "test_list1[0] = '哈吉米'\n",
    "# test_list2[0] = '哈吉米'\n",
    "\n",
    "print(test_list1)\n",
    "print(test_list2)"
   ]
  },
  {
   "cell_type": "markdown",
   "metadata": {},
   "source": [
    "print(tuple(test_list1))\n",
    "\n",
    "print(list(test_list2))\n",
    "\n",
    "这两行代码分别将列表test_list1转换为元组并打印，将元组test_list2转换为列表并打印。由于元组是不可变的，转换为元组的列表不会改变其内容；同样，由于列表是可变的，转换为列表的元组也会保留其原始内容。\n",
    "\n",
    "test_list1[0] = '哈吉米'\n",
    "\n",
    "test_list2[0] = '哈吉米'\n",
    "\n",
    "这两行代码尝试修改test_list1和test_list2中的第一个元素。对于列表test_list1，这是允许的，因为列表是可变的。但对于元组test_list2，这样的操作将导致错误，因为元组是不可变的，不能修改其内容。"
   ]
  },
  {
   "cell_type": "markdown",
   "metadata": {},
   "source": [
    "#### 字典"
   ]
  },
  {
   "cell_type": "markdown",
   "metadata": {},
   "source": [
    "##### 题目 01-04"
   ]
  },
  {
   "cell_type": "code",
   "execution_count": 119,
   "metadata": {},
   "outputs": [
    {
     "name": "stdout",
     "output_type": "stream",
     "text": [
      "2\n",
      "雪豹\n"
     ]
    }
   ],
   "source": [
    "my_dict = {'a': 1, 'b': 2, 'c': 3}\n",
    "print(my_dict['b'])\n",
    "# print(my_dict['666'])\n",
    "\n",
    "my_dict = {\n",
    "    'name': 'Alice', \n",
    "    'age': 25\n",
    "}\n",
    "print(my_dict.get('知识学爆', \"雪豹\"))"
   ]
  },
  {
   "cell_type": "markdown",
   "metadata": {},
   "source": [
    "这部分代码首先创建了一个字典my_dict，其中包含三个键值对。然后，使用字典的索引操作my_dict['b']来访问键 'b' 对应的值。因为 'b' 是字典中的一个有效键，所以输出结果是 'b' 对应的值 2。注释掉的代码print(my_dict['666'])尝试访问不存在的键 '666'，如果取消注释将会得到 KeyError，因为 '666' 不是字典中的一个键。\n",
    "\n",
    "这部分代码创建了另一个字典my_dict，包含两个键值对。接着，使用get方法my_dict.get('知识学爆', \"雪豹\")来尝试获取键 '知识学爆' 对应的值。由于 '知识学爆' 不是字典中的一个有效键，get方法将返回指定的默认值 \"雪豹\"。如果 '知识学爆' 是字典中的一个键，那么将输出与该键对应的值。在这个例子中，由于 '知识学爆' 键不存在，所以输出结果是默认值 \"雪豹\"。"
   ]
  },
  {
   "cell_type": "markdown",
   "metadata": {},
   "source": [
    "##### 题目 01-05"
   ]
  },
  {
   "cell_type": "code",
   "execution_count": 120,
   "metadata": {},
   "outputs": [
    {
     "name": "stdout",
     "output_type": "stream",
     "text": [
      "[('a', 1), ('b', 2), ('c', 3)]\n",
      "['a', 'b', 'c']\n",
      "[1, 2, 3]\n"
     ]
    }
   ],
   "source": [
    "my_dict = {'a': 1, 'b': 2, 'c': 3}\n",
    "print(list(my_dict.items()))\n",
    "print(list(my_dict.keys()))\n",
    "print(list(my_dict.values()))"
   ]
  },
  {
   "cell_type": "markdown",
   "metadata": {},
   "source": [
    "##### 题目 01-06"
   ]
  },
  {
   "cell_type": "code",
   "execution_count": 121,
   "metadata": {},
   "outputs": [
    {
     "name": "stdout",
     "output_type": "stream",
     "text": [
      "{'10000': {'name': 'Alice', 'age': 18}, '10001': {'name': 'Bob', 'age': 19}}\n",
      "{'10000': {'name': 'Alice', 'age': 18}, '10001': {'name': 'Bob', 'age': 19}, '10002': {'name': 'Cindy', 'age': 20}}\n",
      "{'10001': {'name': 'Bob', 'age': 19}, '10002': {'name': 'Cindy', 'age': 20}}\n",
      "{'10001': {'name': 'Bob', 'age': 19}, '10002': {'name': 'Cindy', 'age': 21}}\n"
     ]
    }
   ],
   "source": [
    "my_class = {\n",
    "    '10000': {'name': 'Alice', 'age': 18},\n",
    "    '10001': {'name': 'Bob', 'age': 19},\n",
    "}\n",
    "\n",
    "print(my_class)\n",
    "\n",
    "new_stu = {'name': 'Cindy', 'age': 20}\n",
    "\n",
    "my_class['10002'] =  new_stu\n",
    "print(my_class)\n",
    "\n",
    "del my_class['10000']\n",
    "print(my_class)\n",
    "\n",
    "new_stu['age'] = 21\n",
    "print(my_class)"
   ]
  },
  {
   "cell_type": "markdown",
   "metadata": {},
   "source": [
    "#### 集合"
   ]
  },
  {
   "cell_type": "markdown",
   "metadata": {},
   "source": [
    "##### 题目 01-07"
   ]
  },
  {
   "cell_type": "code",
   "execution_count": 122,
   "metadata": {},
   "outputs": [
    {
     "name": "stdout",
     "output_type": "stream",
     "text": [
      "{4, 5}\n",
      "{1, 2, 3, 4, 5}\n",
      "{1}\n",
      "{1, 2, 5, 6}\n",
      "set()\n"
     ]
    }
   ],
   "source": [
    "set1 = {1, 2, 3, 4, 5}\n",
    "set2 = {4, 5, 6, 7, 8}\n",
    "print(set1 & set2)\n",
    "\n",
    "set1 = {1, 2, 3}\n",
    "set2 = {3, 4, 5}\n",
    "print(set1 | set2)\n",
    "\n",
    "set1 = {1, 2, 3}\n",
    "set2 = {2, 3, 4}\n",
    "print(set1 - set2)\n",
    "\n",
    "set1 = {1, 2, 3, 4}\n",
    "set2 = {3, 4, 5, 6}\n",
    "print(set1 ^ set2)\n",
    "\n",
    "set1 = {1, 2, 3}\n",
    "set2 = {3, 4, 5}\n",
    "set3 = {5, 6, 7}\n",
    "common_elements = set1 & set2 & set3\n",
    "print(common_elements)"
   ]
  },
  {
   "cell_type": "markdown",
   "metadata": {},
   "source": [
    "##### 题目 01-08"
   ]
  },
  {
   "cell_type": "code",
   "execution_count": 123,
   "metadata": {},
   "outputs": [
    {
     "name": "stdout",
     "output_type": "stream",
     "text": [
      "{32, 1, 2, 16}\n",
      "True\n",
      "True\n",
      "True\n"
     ]
    }
   ],
   "source": [
    "set1 = {1, 2, 4, 8}\n",
    "set2 = {4, 8, 16, 32}\n",
    "print(set1.symmetric_difference(set2))\n",
    "\n",
    "set_example = {1, 3, 5, 7, 9}\n",
    "subset = {1, 3}\n",
    "print(subset.issubset(set_example))\n",
    "print(subset < set_example)\n",
    "print(subset <= set_example)"
   ]
  },
  {
   "cell_type": "markdown",
   "metadata": {},
   "source": [
    "##### 题目 01-09"
   ]
  },
  {
   "cell_type": "code",
   "execution_count": 124,
   "metadata": {},
   "outputs": [
    {
     "name": "stdout",
     "output_type": "stream",
     "text": [
      "[0, 1, 4, 9, 16, 25, 36, 49, 64, 81]\n",
      "\n",
      "<generator object <genexpr> at 0x0000019F26DD8350>\n",
      "[0, 1, 4, 9, 16, 25, 36, 49, 64, 81]\n",
      "\n",
      "{0, 1, 64, 4, 36, 9, 16, 49, 81, 25}\n",
      "[0, 1, 4, 9, 16, 25, 36, 49, 64, 81]\n",
      "\n",
      "{0: 0, 1: 1, 2: 4, 3: 9, 4: 16, 5: 25, 6: 36, 7: 49, 8: 64, 9: 81}\n",
      "[0, 1, 4, 9, 16, 25, 36, 49, 64, 81]\n",
      "\n"
     ]
    }
   ],
   "source": [
    "numbers1 = [x**2 for x in range(10)]\n",
    "print(numbers1)\n",
    "print()\n",
    "\n",
    "numbers2 = (x**2 for x in range(10))\n",
    "print(numbers2)\n",
    "print(list(numbers2))\n",
    "print()\n",
    "\n",
    "numbers3 = {x**2 for x in range(10)}\n",
    "print(numbers3)\n",
    "print(sorted(numbers3))\n",
    "print()\n",
    "\n",
    "numbers4 = {x:x**2 for x in range(10)}\n",
    "print(numbers4)\n",
    "print(list(numbers4.values()))\n",
    "print()\n"
   ]
  },
  {
   "cell_type": "markdown",
   "metadata": {},
   "source": [
    "##### 题目 01-10"
   ]
  },
  {
   "cell_type": "code",
   "execution_count": 125,
   "metadata": {},
   "outputs": [
    {
     "name": "stdout",
     "output_type": "stream",
     "text": [
      "出现次数最多的单词是: 'the'，出现了 2 次\n"
     ]
    }
   ],
   "source": [
    "# 定义一个字符串\n",
    "text = \"The quick brown fox jumps over the lazy dog\"\n",
    "\n",
    "# 使用字典来计算文本中每个单词出现的次数\n",
    "word_counts = {}\n",
    "for word in text.split():\n",
    "    word = word.lower()  # 转换为小写\n",
    "    word_counts[word] = word_counts.get(word, 0) + 1\n",
    "\n",
    "# 找出出现次数最多的单词\n",
    "most_common_word = max(word_counts, key=word_counts.get)\n",
    "\n",
    "print(f\"出现次数最多的单词是: '{most_common_word}'，出现了 {word_counts[most_common_word]} 次\")"
   ]
  },
  {
   "cell_type": "markdown",
   "metadata": {},
   "source": [
    "### 编程题（2个）\n",
    "\n",
    "根据题干要求，编写完整代码（可以尝试一题多解）。"
   ]
  },
  {
   "cell_type": "markdown",
   "metadata": {},
   "source": [
    "##### 题目 01-11\n",
    "\n",
    "2023年天津市高考数学第一题\n",
    "\n",
    "已知集合 $U=\\{1,2,3,4,5\\}$,  $A = \\{1,3\\}$,  $B = \\{1,2,4\\}$, 则  $C_{U} B \\cup A =$\n",
    "\n"
   ]
  },
  {
   "cell_type": "code",
   "execution_count": 126,
   "metadata": {},
   "outputs": [
    {
     "name": "stdout",
     "output_type": "stream",
     "text": [
      "Answer = {1, 3, 5}\n"
     ]
    }
   ],
   "source": [
    "# 已知集合\n",
    "U = {1, 2, 3, 4, 5}\n",
    "A = {1, 3}\n",
    "B = {1, 2, 4}\n",
    "\n",
    "# now, code it by yourself ↓\n",
    "\n",
    "# 定义集合 U, A, B\n",
    "\n",
    "# 计算集合U关于集合B的补集 C_{U}B\n",
    "C_U_B = U - B\n",
    "\n",
    "# 计算 C_{U}B 和 A 的并集\n",
    "result = C_U_B | A\n",
    "# result = C_U_B.union(A)\n",
    "\n",
    "# now, code it by yourself ↑\n",
    "\n",
    "# 打印结果\n",
    "print(f\"Answer = {result}\")"
   ]
  },
  {
   "cell_type": "markdown",
   "metadata": {},
   "source": [
    "##### 题目 01-12\n",
    "\n",
    "编写一个程序，完成如下成绩输出。"
   ]
  },
  {
   "cell_type": "code",
   "execution_count": 127,
   "metadata": {},
   "outputs": [
    {
     "name": "stdout",
     "output_type": "stream",
     "text": [
      "学生名单: ('Alice', 'Bob', 'Charlie', 'David')\n",
      "平均分: 93.50\n",
      "分数最高的学生是: Charlie，分数为: 96\n"
     ]
    }
   ],
   "source": [
    "student_scores = {\n",
    "    'Alice': 90,\n",
    "    'Bob': 94,\n",
    "    'Charlie': 96,\n",
    "    'David': 94\n",
    "}\n",
    "\n",
    "# now, code it by yourself ↓\n",
    "\n",
    "students = tuple(student_scores.keys())\n",
    "\n",
    "total_score = sum(student_scores.values())\n",
    "average_score = total_score / len(student_scores)\n",
    "\n",
    "highest_score = max(student_scores, key=student_scores.get)\n",
    "highest_score_value = student_scores[highest_score]\n",
    "\n",
    "# now, code it by yourself ↑\n",
    "\n",
    "print(f\"学生名单: {students}\")\n",
    "print(f\"平均分: {average_score:.2f}\")\n",
    "print(f\"分数最高的学生是: {highest_score}，分数为: {highest_score_value}\")"
   ]
  },
  {
   "cell_type": "markdown",
   "metadata": {},
   "source": [
    "max()函数是Python中的一个内置函数，用于返回序列中的最大值。当max()函数与key参数一起使用时，它允许你指定一个函数，该函数将在序列的每个元素上调用，以确定如何比较元素以找出最大值。\n",
    "\n",
    "key参数接受一个函数作为参数，这个函数定义了如何从序列的元素中提取比较的值。换句话说，key参数允许你指定一个用于比较的标准。\n",
    "\n",
    "在这个例子中，max()函数被用来找出student_scores字典中分数最高的学生的姓名。key=student_scores.get告诉max()函数使用student_scores字典的get方法来获取每个键的值（即分数），然后根据这些值来确定哪个键（学生姓名）是最大的。\n",
    "\n",
    "如果没有提供key参数，max()函数将直接比较序列中的元素。\n",
    "\n",
    "这种使用key参数的方法在处理复杂数据结构时非常有用，它提供了一种灵活的方式来定义元素之间的比较逻辑。"
   ]
  }
 ],
 "metadata": {
  "kernelspec": {
   "display_name": "hjy",
   "language": "python",
   "name": "python3"
  },
  "language_info": {
   "codemirror_mode": {
    "name": "ipython",
    "version": 3
   },
   "file_extension": ".py",
   "mimetype": "text/x-python",
   "name": "python",
   "nbconvert_exporter": "python",
   "pygments_lexer": "ipython3",
   "version": "3.9.16"
  }
 },
 "nbformat": 4,
 "nbformat_minor": 2
}
