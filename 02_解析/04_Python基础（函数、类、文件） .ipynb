{
 "cells": [
  {
   "cell_type": "markdown",
   "metadata": {},
   "source": [
    "## 04_Python基础（函数、类、文件）"
   ]
  },
  {
   "cell_type": "markdown",
   "metadata": {},
   "source": [
    "### 填空题（10个）\n",
    "\n",
    "根据题干要求，给出输出结果。"
   ]
  },
  {
   "cell_type": "markdown",
   "metadata": {},
   "source": [
    "##### 题目 01-01"
   ]
  },
  {
   "cell_type": "code",
   "execution_count": 111,
   "metadata": {},
   "outputs": [
    {
     "name": "stdout",
     "output_type": "stream",
     "text": [
      "Hello, Bob!\n",
      "Good morning, Alice!\n"
     ]
    }
   ],
   "source": [
    "def greet(name, message=\"Hello\"):\n",
    "    return f\"{message}, {name}!\"\n",
    "\n",
    "print(greet(\"Bob\"))\n",
    "print(greet(\"Alice\", \"Good morning\"))"
   ]
  },
  {
   "cell_type": "markdown",
   "metadata": {},
   "source": [
    "##### 题目 01-02"
   ]
  },
  {
   "cell_type": "code",
   "execution_count": 112,
   "metadata": {},
   "outputs": [
    {
     "name": "stdout",
     "output_type": "stream",
     "text": [
      "120\n"
     ]
    }
   ],
   "source": [
    "def factorial(n):\n",
    "    if n == 0:\n",
    "        return 1\n",
    "    else:\n",
    "        return n * factorial(n - 1)\n",
    "\n",
    "print(factorial(5))"
   ]
  },
  {
   "cell_type": "markdown",
   "metadata": {},
   "source": [
    "##### 题目 01-03"
   ]
  },
  {
   "cell_type": "code",
   "execution_count": 2,
   "metadata": {},
   "outputs": [
    {
     "name": "stdout",
     "output_type": "stream",
     "text": [
      "2 3 5 7 11 13 17 19 "
     ]
    }
   ],
   "source": [
    "def is_prime(n):\n",
    "    if n <= 1:\n",
    "        return False\n",
    "    for i in range(2, int(n**0.5) + 1):\n",
    "        if n % i == 0:\n",
    "            return False\n",
    "    return True\n",
    "\n",
    "for num in range(20):\n",
    "    if is_prime(num):\n",
    "        print(num, end=\" \")"
   ]
  },
  {
   "cell_type": "markdown",
   "metadata": {},
   "source": [
    "##### 题目 01-04"
   ]
  },
  {
   "cell_type": "code",
   "execution_count": 9,
   "metadata": {},
   "outputs": [
    {
     "name": "stdout",
     "output_type": "stream",
     "text": [
      "Khoor, Zruog!\n"
     ]
    }
   ],
   "source": [
    "def simple_encrypt(text, shift):\n",
    "    encrypted_text = \"\"\n",
    "    for char in text:\n",
    "        if char.isalpha():\n",
    "            offset = 65 if char.isupper() else 97\n",
    "            encrypted_text += chr((ord(char) + shift - offset) % 26 + offset)\n",
    "        else:\n",
    "            encrypted_text += char\n",
    "    return encrypted_text\n",
    "\n",
    "text_to_encrypt = \"Hello, World!\"\n",
    "shift_amount = 3\n",
    "print(simple_encrypt(text_to_encrypt, shift_amount))"
   ]
  },
  {
   "cell_type": "markdown",
   "metadata": {},
   "source": [
    "##### 题目 01-05"
   ]
  },
  {
   "cell_type": "code",
   "execution_count": 115,
   "metadata": {},
   "outputs": [
    {
     "name": "stdout",
     "output_type": "stream",
     "text": [
      "Total cost of the cart: 5.8\n"
     ]
    }
   ],
   "source": [
    "class Item:\n",
    "    def __init__(self, name, price):\n",
    "        self.name = name\n",
    "        self.price = price\n",
    "\n",
    "    def total_cost(self, quantity):\n",
    "        return self.price * quantity\n",
    "\n",
    "def checkout(cart):\n",
    "    total = 0\n",
    "    for item, quantity in cart.items():\n",
    "        total += item.total_cost(quantity)\n",
    "    return total\n",
    "\n",
    "cart = {\n",
    "    Item(\"Banana\", 0.5): 4, # 2\n",
    "    Item(\"Apple\", 1.0): 2, # 2\n",
    "    Item(\"Orange\", 0.6): 3 # 1.8\n",
    "}\n",
    "\n",
    "print(f\"Total cost of the cart: {checkout(cart)}\")"
   ]
  },
  {
   "cell_type": "markdown",
   "metadata": {},
   "source": [
    "##### 题目 01-06"
   ]
  },
  {
   "cell_type": "code",
   "execution_count": 116,
   "metadata": {},
   "outputs": [
    {
     "name": "stdout",
     "output_type": "stream",
     "text": [
      "Added 10. Current result is 10\n",
      "Subtracted 2. Current result is 8\n",
      "Multiplied by 5. Current result is 40\n",
      "Cannot divide by zero.\n",
      "Divided by 20. Current result is 2.0\n"
     ]
    }
   ],
   "source": [
    "class Calculator:\n",
    "    def __init__(self):\n",
    "        self.result = 0\n",
    "\n",
    "    def add(self, a):\n",
    "        self.result += a\n",
    "        print(f\"Added {a}. Current result is {self.result}\")\n",
    "\n",
    "    def subtract(self, a):\n",
    "        self.result -= a\n",
    "        print(f\"Subtracted {a}. Current result is {self.result}\")\n",
    "\n",
    "    def multiply(self, a):\n",
    "        self.result *= a\n",
    "        print(f\"Multiplied by {a}. Current result is {self.result}\")\n",
    "\n",
    "    def divide(self, a):\n",
    "        if a == 0:\n",
    "            print(\"Cannot divide by zero.\")\n",
    "        else:\n",
    "            self.result /= a\n",
    "            print(f\"Divided by {a}. Current result is {self.result}\")\n",
    "\n",
    "calc = Calculator()\n",
    "calc.add(10)\n",
    "calc.subtract(2)\n",
    "calc.multiply(5)\n",
    "calc.divide(0)\n",
    "calc.divide(20)"
   ]
  },
  {
   "cell_type": "markdown",
   "metadata": {},
   "source": [
    "##### 题目 01-07"
   ]
  },
  {
   "cell_type": "code",
   "execution_count": 12,
   "metadata": {},
   "outputs": [
    {
     "name": "stdout",
     "output_type": "stream",
     "text": [
      "150\n",
      "True\n",
      "130\n"
     ]
    }
   ],
   "source": [
    "class BankAccount:\n",
    "    def __init__(self, balance=0):\n",
    "        self.balance = balance\n",
    "\n",
    "    def deposit(self, amount):\n",
    "        if amount > 0:\n",
    "            self.balance += amount\n",
    "\n",
    "    def withdraw(self, amount):\n",
    "        if 0 < amount <= self.balance:\n",
    "            self.balance -= amount\n",
    "            return True\n",
    "        return False\n",
    "\n",
    "    def get_balance(self):\n",
    "        return self.balance\n",
    "\n",
    "account = BankAccount(100)\n",
    "account.deposit(50)\n",
    "print(account.get_balance())\n",
    "print(account.withdraw(20))\n",
    "print(account.get_balance())"
   ]
  },
  {
   "cell_type": "markdown",
   "metadata": {},
   "source": [
    "##### 题目 01-08"
   ]
  },
  {
   "cell_type": "code",
   "execution_count": 16,
   "metadata": {},
   "outputs": [
    {
     "name": "stdout",
     "output_type": "stream",
     "text": [
      "文本中'计算机视觉'出现了 2 次。\n"
     ]
    }
   ],
   "source": [
    "with open('../source/1.txt', 'r') as f:\n",
    "    content = f.read()\n",
    "\n",
    "search_phrase = '计算机视觉'\n",
    "occurrences = content.count(search_phrase)\n",
    "print(f\"文本中'{search_phrase}'出现了 {occurrences} 次。\")"
   ]
  },
  {
   "cell_type": "markdown",
   "metadata": {},
   "source": [
    "##### 题目 01-09"
   ]
  },
  {
   "cell_type": "code",
   "execution_count": 23,
   "metadata": {},
   "outputs": [
    {
     "name": "stdout",
     "output_type": "stream",
     "text": [
      "The average age is: 30\n"
     ]
    }
   ],
   "source": [
    "import csv\n",
    "\n",
    "def calculate_average_age(data):\n",
    "    total_age = 0\n",
    "    total_people = 0\n",
    "    for row in data:\n",
    "        if row[0] == 'Name':\n",
    "            continue\n",
    "        total_age += eval(row[1])\n",
    "        total_people += 1\n",
    "    \n",
    "    average_age = total_age / total_people if total_people else 0\n",
    "    return average_age\n",
    "\n",
    "def read_csv(filename):\n",
    "    with open(filename, newline='') as csvfile:\n",
    "        reader = csv.reader(csvfile)\n",
    "        data = list(reader)\n",
    "    return data\n",
    "\n",
    "csv_data = read_csv('../source/2.csv')\n",
    "avg_age = calculate_average_age(csv_data)\n",
    "print(f\"The average age is: {int(avg_age)}\")"
   ]
  },
  {
   "cell_type": "markdown",
   "metadata": {},
   "source": [
    "##### 题目 01-10"
   ]
  },
  {
   "cell_type": "code",
   "execution_count": 24,
   "metadata": {},
   "outputs": [
    {
     "name": "stdout",
     "output_type": "stream",
     "text": [
      "已保存\n"
     ]
    }
   ],
   "source": [
    "import cv2\n",
    "image = cv2.imread('../source/3.png')\n",
    "gray_image = cv2.cvtColor(image, cv2.COLOR_BGR2GRAY)\n",
    "cv2.imwrite('../source/3_gray.png', gray_image)\n",
    "print(\"已保存\")"
   ]
  },
  {
   "cell_type": "markdown",
   "metadata": {},
   "source": [
    "### 编程题（2个）\n",
    "\n",
    "根据题干要求，编写完整代码（可以尝试一题多解）。"
   ]
  },
  {
   "cell_type": "markdown",
   "metadata": {},
   "source": [
    "##### 题目 01-11\n",
    "\n"
   ]
  },
  {
   "cell_type": "markdown",
   "metadata": {},
   "source": [
    "打开4.png文件，裁剪去掉文字部分（使用切片实现），用红色框出第四张图中鸟的位置（使用opencv正方形绘图），标出白色文字“funny”。"
   ]
  },
  {
   "cell_type": "code",
   "execution_count": 26,
   "metadata": {},
   "outputs": [
    {
     "data": {
      "text/plain": [
       "True"
      ]
     },
     "execution_count": 26,
     "metadata": {},
     "output_type": "execute_result"
    }
   ],
   "source": [
    "import cv2\n",
    "\n",
    "# 读取图片\n",
    "image = cv2.imread('../source/4.png')\n",
    "\n",
    "# 裁剪图片，去掉上方文字部分，文字占据的行数为 200 像素\n",
    "height, width, channels = image.shape\n",
    "\n",
    "# now, code it by yourself ↓\n",
    "cropped_image = image[200:, ]\n",
    "# now, code it by yourself ↑\n",
    "\n",
    "# 假设我们已知鸟的位置和图片的尺寸\n",
    "bird_top_left_x = 445\n",
    "bird_top_left_y = 410\n",
    "bird_bottom_right_x = 528\n",
    "bird_bottom_right_y = 490\n",
    "\n",
    "# 用红色框出鸟的位置\n",
    "# now, code it by yourself ↓\n",
    "cv2.rectangle(cropped_image, (bird_top_left_x, bird_top_left_y), (bird_bottom_right_x, bird_bottom_right_y), (0, 0, 255), 2)\n",
    "# now, code it by yourself ↑\n",
    "\n",
    "text_color = (255, 255, 255)  # 白色文字\n",
    "pos = (bird_bottom_right_x + 50, bird_bottom_right_y) # 文字位置已给出\n",
    "# now, code it by yourself ↓\n",
    "cv2.putText(cropped_image, 'funny', pos, cv2.FONT_HERSHEY_SIMPLEX, 2, text_color, 3, cv2.LINE_AA)\n",
    "# now, code it by yourself ↑\n",
    "\n",
    "# 显示图片\n",
    "cv2.imshow('Cropped Image with Bird and Text', cropped_image)\n",
    "cv2.waitKey(0)\n",
    "cv2.destroyAllWindows()\n",
    "\n",
    "# 保存修改后的图片\n",
    "cv2.imwrite('../source/4_cropped_with_funny_bird.png', cropped_image)"
   ]
  },
  {
   "cell_type": "markdown",
   "metadata": {},
   "source": [
    "##### 题目 01-12\n",
    "\n",
    "打开5.txt文件，按行阅读每一条信息，按照如下的总结规则，统计每一种用词错误的数量\n",
    "\n",
    "输出格式：\n",
    "\n",
    "xx错误: xxx\n",
    "\n",
    "xx错误: xxx\n",
    "\n",
    "xx错误: xxx\n",
    "\n",
    "\n",
    "总结的规则：\n",
    "\n",
    "- 如果一个句子中包含“误读为”，则这个句子解释了一个读音错误类错误。\n",
    "- 如果一个句子中包含“误为”或“误称”，则这个句子解释了一个用词错误类错误。\n",
    "- 如果一个句子中包含“误让”或“误把”，则这个句子解释了一个事实错误类错误。"
   ]
  },
  {
   "cell_type": "code",
   "execution_count": 125,
   "metadata": {},
   "outputs": [
    {
     "name": "stdout",
     "output_type": "stream",
     "text": [
      "读音错误: 2\n",
      "用词错误: 6\n",
      "事实错误: 2\n"
     ]
    }
   ],
   "source": [
    "    \n",
    "filename = \"../source/5.txt\"\n",
    "\n",
    "# 调用函数并打印结果\n",
    "mistake_types = {\n",
    "    \"读音错误\": 0,\n",
    "    \"用词错误\": 0,\n",
    "    \"事实错误\": 0\n",
    "}\n",
    "    \n",
    "# 读取文件内容\n",
    "# now, code it by yourself ↓\n",
    "with open(filename, 'r') as f:\n",
    "    lines = f.readlines()\n",
    "# now, code it by yourself ↑\n",
    "\n",
    "# 遍历每一行，统计错误类型\n",
    "# now, code it by yourself ↓\n",
    "for line in lines:\n",
    "    if \"误读为\" in line:\n",
    "        mistake_types[\"读音错误\"] += 1\n",
    "    elif \"误为\" in line or \"误称\" in line:\n",
    "        mistake_types[\"用词错误\"] += 1\n",
    "    elif \"误让\" in line or \"误把\" in line:\n",
    "        mistake_types[\"事实错误\"] += 1\n",
    "# now, code it by yourself ↑\n",
    "\n",
    "for mistake_type, count in mistake_types.items():\n",
    "    print(f\"{mistake_type}: {count}\")"
   ]
  }
 ],
 "metadata": {
  "kernelspec": {
   "display_name": "hjy",
   "language": "python",
   "name": "python3"
  },
  "language_info": {
   "codemirror_mode": {
    "name": "ipython",
    "version": 3
   },
   "file_extension": ".py",
   "mimetype": "text/x-python",
   "name": "python",
   "nbconvert_exporter": "python",
   "pygments_lexer": "ipython3",
   "version": "3.9.16"
  }
 },
 "nbformat": 4,
 "nbformat_minor": 2
}
