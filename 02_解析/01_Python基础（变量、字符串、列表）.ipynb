{
 "cells": [
  {
   "cell_type": "markdown",
   "metadata": {},
   "source": [
    "## 01_Python基础（变量、字符串、列表）"
   ]
  },
  {
   "cell_type": "markdown",
   "metadata": {},
   "source": [
    "### 填空题（10个）\n",
    "\n",
    "根据题干要求，给出输出结果。"
   ]
  },
  {
   "cell_type": "markdown",
   "metadata": {},
   "source": [
    "#### 变量"
   ]
  },
  {
   "cell_type": "markdown",
   "metadata": {},
   "source": [
    "##### 题目 01-01"
   ]
  },
  {
   "cell_type": "markdown",
   "metadata": {},
   "source": [
    "7.0 - 当你打印数字5和浮点数2.0的和时，Python会执行加法操作，并且结果会是浮点数类型的数值，因为其中一个操作数是浮点数。所以输出是7.0。\n",
    "\n",
    "\"52\" - 当你尝试将字符串\"5\"和字符串\"2\"相加时，Python会将它们连接起来，因为加号+在字符串中表示连接操作。所以输出是\"52\"。\n",
    "\n",
    "当你尝试将整数5和字符串\"2\"相加时，Python会抛出一个类型错误（TypeError），因为你不能直接将整数和字符串进行加法操作。在Python中，加号+用于数值加法和字符串连接，但这两种操作不能混合使用。\n",
    "\n",
    "最后一个也是一样的道理，两种操作不能混合使用。"
   ]
  },
  {
   "cell_type": "code",
   "execution_count": 1,
   "metadata": {},
   "outputs": [
    {
     "name": "stdout",
     "output_type": "stream",
     "text": [
      "7.0\n",
      "52\n"
     ]
    }
   ],
   "source": [
    "print(5 + 2.0)\n",
    "print(\"5\" + \"2\")\n",
    "# print(5 + \"2\")\n",
    "# print(\"10 divided by 2 is: \" + 10 / 2)\n"
   ]
  },
  {
   "cell_type": "markdown",
   "metadata": {},
   "source": [
    "##### 题目 01-02"
   ]
  },
  {
   "cell_type": "markdown",
   "metadata": {},
   "source": [
    "2.0 - 当你打印整数4除以整数2时，Python执行的是浮点数除法，即使两个操作数都是整数。在Python 3中，除法/总是返回一个浮点数结果，所以输出是2.0。\n",
    "\n",
    "2 - 当你将5除以2的结果转换为整数时，你会得到一个整数商。在Python中，使用int()函数会将浮点数向下取整到最接近的整数。因此，5除以2得到的是2.5，但当你使用int(2.5)时，结果就是2。\n",
    "\n",
    "True - 在Python中，浮点数2.0和整数2在数值上是相等的，所以在进行等值比较时，4/2 == 2会返回True。这是因为Python在比较浮点数和整数时，会将浮点数转换为整数进行比较，只要浮点数的小数部分为0。\n",
    "\n",
    "False - 这个表达式检查0.1加上0.2是否精确等于0.3。在浮点数运算中，由于二进制表示的限制，这种直接的相加通常不会得到精确的0.3。这是因为0.1和0.2在二进制浮点数表示中是无限循环小数，当它们相加时，结果也会是一个近似值。因此，即使在数学上0.1 + 0.2 = 0.3，但在Python中，这个比较的结果是False。"
   ]
  },
  {
   "cell_type": "code",
   "execution_count": 2,
   "metadata": {},
   "outputs": [
    {
     "name": "stdout",
     "output_type": "stream",
     "text": [
      "2.0\n",
      "2\n",
      "True\n",
      "False\n"
     ]
    }
   ],
   "source": [
    "print(4/2)\n",
    "print(int(5/2))\n",
    "print(4/2 == 2)\n",
    "print(0.1+0.2 == 0.3)"
   ]
  },
  {
   "cell_type": "markdown",
   "metadata": {},
   "source": [
    "##### 题目 01-03"
   ]
  },
  {
   "cell_type": "markdown",
   "metadata": {},
   "source": [
    "False - 这个表达式使用逻辑与运算符and来检查两个条件是否都为真。第一个条件5 > 0是True，因为5确实大于0。然而，第二个条件6 > 1 + 6计算后变为6 > 7，这是False。逻辑与运算符and要求两边都为True，结果才为True。由于第二个条件为False，整个表达式的结果为False。\n",
    "\n",
    "True - 这个表达式使用逻辑非运算符not来反转前面的逻辑表达式的结果。由于前面的表达式结果是False，所以not将其反转为True。\n",
    "\n",
    "\"星铁\" - 表达式-1 > 0 or \"星铁\"中的第一部分-1 > 0为False。由于or运算符的短路逻辑，当第一个操作数为False时，Python将评估第二个操作数。在这个例子中，第二个操作数是字符串\"星铁\"。由于or运算符只要有一个操作数为真值（truthy），整个表达式的结果就是真值。在Python中，除了False、None、0、\"\"（空字符串）等被视为假值（falsy），其他值包括字符串都是真值。因此，尽管第一个操作数是False，但第二个操作数是字符串\"星铁\"，它是一个真值，所以整个表达式的结果是字符串\"星铁\"。\n",
    "\n",
    "\"原神\" - 表达式1 > 0 and \"原神\"中的第一部分1 > 0为True。由于and运算符的短路逻辑，当第一个操作数为True时，Python将评估第二个操作数。在这个例子中，第二个操作数同样是字符串\"原神\"。由于and运算符要求两个操作数都为真值，而字符串\"原神\"是一个真值，所以整个表达式的结果是字符串\"原神\"。"
   ]
  },
  {
   "cell_type": "code",
   "execution_count": 3,
   "metadata": {},
   "outputs": [
    {
     "name": "stdout",
     "output_type": "stream",
     "text": [
      "False\n",
      "True\n",
      "星铁\n",
      "原神\n"
     ]
    }
   ],
   "source": [
    "print(5 > 0 and 6 > 1 + 6)\n",
    "print(not (5 > 0 and 6 > 1 + 6))\n",
    "print( -1 > 0 or \"星铁\")\n",
    "print( 1 > 0 and \"原神\")"
   ]
  },
  {
   "cell_type": "markdown",
   "metadata": {},
   "source": [
    "#### 字符串"
   ]
  },
  {
   "cell_type": "markdown",
   "metadata": {},
   "source": [
    "##### 题目 01-04"
   ]
  },
  {
   "cell_type": "markdown",
   "metadata": {},
   "source": [
    "在这段Python代码中，我们首先定义了两个字符串变量name1和name2，分别赋值为\"Alice\"和\"Bob\"。然后，我们创建了一个名为greeting的字符串变量，它通过拼接几个字符串和一些字符串方法来构建最终的问候语。\n",
    "\n",
    "让我们逐步分析这个greeting字符串是如何构建的：\n",
    "\n",
    "\"heLLO, \".capitalize() - 这个表达式首先取出字符串\"heLLO, \"，然后调用.capitalize()方法，它会将字符串的第一个字符转换为大写，即\"Hello, \"。注意，.capitalize()方法只会改变字符串的第一个字符的大小写，如果第一个字符已经是大写或者不是字母，那么它将不会有任何变化。\n",
    "\n",
    "name1.upper() - 这个表达式将变量name1的值\"Alice\"转换为全大写的字符串\"ALICE\"。\n",
    "\n",
    "\" and \" - 这是一个简单的字符串，表示单词\"and\"。\n",
    "\n",
    "name2.lower() - 这个表达式将变量name2的值\"Bob\"转换为全小写的字符串\"bob\"。\n",
    "\n",
    "将这些部分拼接起来，我们得到最终的greeting字符串："
   ]
  },
  {
   "cell_type": "code",
   "execution_count": 4,
   "metadata": {},
   "outputs": [
    {
     "name": "stdout",
     "output_type": "stream",
     "text": [
      "Hello, ALICE and bob\n"
     ]
    }
   ],
   "source": [
    "name1 = \"Alice\"\n",
    "name2 = \"Bob\"\n",
    "greeting = \"heLLO, \".capitalize() + name1.upper() + \" and \" + name2.lower()\n",
    "print(greeting)"
   ]
  },
  {
   "cell_type": "markdown",
   "metadata": {},
   "source": [
    "##### 题目 01-05"
   ]
  },
  {
   "cell_type": "markdown",
   "metadata": {},
   "source": [
    "在这段Python代码中，我们首先定义了一个名为sentence的字符串变量，其值为\"Python is fun!\"。接着，我们使用len()函数来获取这个字符串的长度，并打印出来。然后，我们使用replace()方法来替换字符串中的字符，并通过split()方法分割字符串，最后使用切片操作[::-1]来反转切片的字符串。让我们逐步分析这些操作：\n",
    "\n",
    "print(len(sentence)) - len(sentence)会返回字符串\"Python is fun!\"的长度，即它包含的字符数量。由于字符串中的空格和感叹号也被计算在内，所以输出将是这个字符串的总字符数，包括空格和感叹号。\n",
    "\n",
    "new_sentence = sentence.replace(\"n\", \"N\").split()[-1][::-1] - 这个表达式首先使用replace(\"n\", \"N\")方法将字符串中的所有小写字母\"n\"替换为大写字母\"N\"，得到新字符串\"Python is fun!\"变为\"PythoN is fuN!\"。然后，使用split()方法将字符串分割成单词列表，即[\"PythoN\", \"is\", \"fuN!\"]。[-1]索引取得列表的最后一个元素，即\"fuN!\"。最后，[::-1]是一个切片操作，它反转了字符串\"fuN!\"，得到\"!Nuf\"。"
   ]
  },
  {
   "cell_type": "code",
   "execution_count": 5,
   "metadata": {},
   "outputs": [
    {
     "name": "stdout",
     "output_type": "stream",
     "text": [
      "14\n",
      "!Nuf\n"
     ]
    }
   ],
   "source": [
    "sentence = \"Python is fun!\"\n",
    "print(len(sentence))\n",
    "\n",
    "new_sentence = sentence.replace(\"n\", \"N\").split()[-1][::-1]\n",
    "print(new_sentence)"
   ]
  },
  {
   "cell_type": "markdown",
   "metadata": {},
   "source": [
    "##### 题目 01-06"
   ]
  },
  {
   "cell_type": "markdown",
   "metadata": {},
   "source": [
    "format()函数中的{:.1f}是一个格式说明符，它告诉Python将浮点数格式化为一位小数的字符串。price变量的值是9.15，所以格式化后的字符串将是\"The price is $9.2.\"。注意format是四舍五入\n",
    "\n",
    "Python 3.6及以后版本引入的f-string（格式化字符串字面量）功能。object.strip('-')是一个方法调用，它从object字符串的两端删除所有的'-'字符。由于object的值是\"--T-shirt---\"，strip('-')的结果是\"T-shirt\"。然后，price:.2f是另一个格式说明符，它将价格格式化为两位小数的字符串，即\"9.15\"。"
   ]
  },
  {
   "cell_type": "code",
   "execution_count": 6,
   "metadata": {},
   "outputs": [
    {
     "name": "stdout",
     "output_type": "stream",
     "text": [
      "The price is $9.2.\n",
      "The price of the T-shirt is $9.15.\n"
     ]
    }
   ],
   "source": [
    "price = 9.15\n",
    "object = \"--T-shirt---\"\n",
    "\n",
    "formatted = \"The price is ${:.1f}.\".format(price)\n",
    "print(formatted)\n",
    "\n",
    "formatted = f\"The price of the {object.strip('-')} is ${price:.2f}.\"\n",
    "print(formatted)"
   ]
  },
  {
   "cell_type": "markdown",
   "metadata": {},
   "source": [
    "#### 列表"
   ]
  },
  {
   "cell_type": "markdown",
   "metadata": {},
   "source": [
    "##### 题目 01-07"
   ]
  },
  {
   "cell_type": "markdown",
   "metadata": {},
   "source": [
    "print(sum(my_list[:3])) - 这行代码使用sum()函数来计算列表my_list中前三个元素的和。切片操作my_list[:3]取得列表的前三个元素，即[3, 5, 7]。sum()函数将这些元素相加，得到结果15。\n",
    "\n",
    "print(len(my_list[-2:])) - 这行代码使用len()函数来获取列表my_list中从倒数第二个元素开始到列表末尾的所有元素的长度。切片操作my_list[-2:]取得列表的倒数第二个元素和最后一个元素，即[15,17]，实际上就是最后两个元素，也就是2，也不用看具体是哪几个数字"
   ]
  },
  {
   "cell_type": "code",
   "execution_count": 7,
   "metadata": {},
   "outputs": [
    {
     "name": "stdout",
     "output_type": "stream",
     "text": [
      "15\n",
      "2\n"
     ]
    }
   ],
   "source": [
    "my_list = [3, 5, 7, 9, 11, 15, 17]\n",
    "\n",
    "print(sum(my_list[:3]))\n",
    "print(len(my_list[-2:]))"
   ]
  },
  {
   "cell_type": "markdown",
   "metadata": {},
   "source": [
    "##### 题目 01-08"
   ]
  },
  {
   "cell_type": "markdown",
   "metadata": {},
   "source": [
    "fruits.append(\"date\") - 这行代码使用append()方法将字符串\"date\"添加到列表fruits的末尾。初始列表fruits包含[\"apple\", \"banana\", \"cherry\"]，在添加\"date\"后，列表变为[\"apple\", \"banana\", \"cherry\", \"date\"]。\n",
    "\n",
    "fruits.remove(\"apple\") - 这行代码使用remove()方法移除列表中第一个出现的字符串\"apple\"。由于\"apple\"是列表的第一个元素，移除后列表变为[\"banana\", \"cherry\", \"date\"]。\n",
    "\n",
    "fruits.pop(1) - 这行代码使用pop()方法移除列表中索引为1的元素（即第二个元素），并返回该元素的值。在这个例子中，移除的是\"cherry\"，列表变为[\"banana\", \"date\"]。\n",
    "\n",
    "fruits.insert(2, \"666\") - 这行代码使用insert()方法在索引2的位置插入字符串\"666\"。由于索引是从0开始的，所以\"666\"会被插入到列表的第三个位置，列表变为[\"banana\", \"date\", \"666\"]。\n",
    "\n",
    "del fruits[-1] - 这行代码使用del语句删除列表中最后一个元素，即\"666\"。删除后，列表变为[\"banana\", \"date\"]。\n",
    "\n",
    "fruits.clear() - 这行代码使用clear()方法清空整个列表。清空后，列表变为空列表[]。"
   ]
  },
  {
   "cell_type": "code",
   "execution_count": 8,
   "metadata": {},
   "outputs": [
    {
     "name": "stdout",
     "output_type": "stream",
     "text": [
      "['apple', 'banana', 'cherry', 'date']\n",
      "['banana', 'cherry', 'date']\n",
      "['banana', 'date']\n",
      "['banana', 'date', '666']\n",
      "['banana', 'date']\n",
      "[]\n"
     ]
    }
   ],
   "source": [
    "fruits = [\"apple\", \"banana\", \"cherry\"]\n",
    "\n",
    "fruits.append(\"date\")\n",
    "print(fruits)\n",
    "\n",
    "fruits.remove(\"apple\")\n",
    "print(fruits)\n",
    "\n",
    "fruits.pop(1)\n",
    "print(fruits)\n",
    "\n",
    "fruits.insert(2, \"666\")\n",
    "print(fruits)\n",
    "\n",
    "del fruits[-1]\n",
    "print(fruits)\n",
    "\n",
    "fruits.clear()\n",
    "print(fruits)"
   ]
  },
  {
   "cell_type": "markdown",
   "metadata": {},
   "source": [
    "##### 题目 01-09"
   ]
  },
  {
   "cell_type": "markdown",
   "metadata": {},
   "source": [
    "combined_list1 = (list1 + [list1]) - 这行代码首先创建了一个新的列表，它是通过将原始列表list1（即[1, 2, 3]）与另一个列表（也是[1, 2, 3]）相加得到的。这里需要注意的是，加法操作+用于列表时，会创建一个新的列表，原始列表不会被修改。所以，combined_list1的结果将是[1, 2, 3, [1, 2, 3]]。\n",
    "\n",
    "print(combined_list1) - 打印combined_list1的内容，输出将是[1, 2, 3, [1, 2, 3]]。\n",
    "\n",
    "combined_list2 = list1.extend([4, 5, 6]) - 这行代码使用extend()方法将新元素[4, 5, 6]添加到列表list1的末尾。与加法操作不同，extend()方法会直接修改原始列表list1，而不是创建一个新的列表。extend()方法没有返回值，或者更准确地说，它返回None。因此，combined_list2被赋值为None。\n",
    "\n",
    "print(list1) - 打印修改后的list1的内容。由于extend()方法已经将[4, 5, 6]添加到了list1的末尾，所以输出将是[1, 2, 3, 4, 5, 6]。\n",
    "\n",
    "print(combined_list2) - 打印combined_list2的内容。由于combined_list2被赋值为None，所以输出将是None。"
   ]
  },
  {
   "cell_type": "code",
   "execution_count": 9,
   "metadata": {},
   "outputs": [
    {
     "name": "stdout",
     "output_type": "stream",
     "text": [
      "[1, 2, 3, [1, 2, 3]]\n",
      "[1, 2, 3, 4, 5, 6]\n",
      "None\n"
     ]
    }
   ],
   "source": [
    "list1 = [1, 2, 3]\n",
    "\n",
    "combined_list1 = (list1 + [list1])\n",
    "print(combined_list1)\n",
    "\n",
    "combined_list2 = list1.extend([4,5,6])\n",
    "print(list1)\n",
    "print(combined_list2)"
   ]
  },
  {
   "cell_type": "markdown",
   "metadata": {},
   "source": [
    "##### 题目 01-10"
   ]
  },
  {
   "cell_type": "markdown",
   "metadata": {},
   "source": [
    "more_colors1 = colors.copy() - 这行代码使用copy()方法创建了colors列表的一个浅拷贝，并将其赋值给变量more_colors1。浅拷贝意味着创建一个新的列表对象，修改more_colors1中的元素不会影响colors。\n",
    "\n",
    "more_colors1.append(\"yellow\") - 这行代码在more_colors1列表的末尾添加了一个新元素\"yellow\"。\n",
    "\n",
    "print(colors) - 打印原始列表colors的内容。由于colors没有被修改，输出将是[\"red\", \"green\", \"blue\"]。\n",
    "\n",
    "print(more_colors1) - 打印修改后的more_colors1列表的内容。由于我们在more_colors1中添加了\"yellow\"，输出将是[\"red\", \"green\", \"blue\", \"yellow\"]。\n",
    "\n",
    "more_colors2 = colors - 这行代码通过直接赋值创建了colors列表的一个引用，并将其赋值给变量more_colors2。这意味着more_colors2和colors现在引用同一个列表对象。\n",
    "\n",
    "more_colors2.append(\"yellow\") - 这行代码在more_colors2（实际上是colors）列表的末尾添加了一个新元素\"yellow\"。由于more_colors2和colors引用的是同一个列表，所以原始的colors列表也被修改了。\n",
    "\n",
    "print(colors) - 打印修改后的colors列表的内容。由于我们在more_colors2（即colors）中添加了\"yellow\"，输出将是[\"red\", \"green\", \"blue\", \"yellow\"]。\n",
    "\n",
    "print(more_colors2) - 打印修改后的more_colors2列表的内容。由于more_colors2和colors引用的是同一个列表，输出也将是[\"red\", \"green\", \"blue\", \"yellow\"]。"
   ]
  },
  {
   "cell_type": "code",
   "execution_count": 10,
   "metadata": {},
   "outputs": [
    {
     "name": "stdout",
     "output_type": "stream",
     "text": [
      "['red', 'green', 'blue']\n",
      "['red', 'green', 'blue', 'yellow']\n",
      "['red', 'green', 'blue', 'yellow']\n",
      "['red', 'green', 'blue', 'yellow']\n"
     ]
    }
   ],
   "source": [
    "colors = [\"red\", \"green\", \"blue\"]\n",
    "more_colors1 = colors.copy()\n",
    "more_colors1.append(\"yellow\")\n",
    "print(colors)\n",
    "print(more_colors1)\n",
    "\n",
    "more_colors2 = colors\n",
    "more_colors2.append(\"yellow\")\n",
    "print(colors)\n",
    "print(more_colors2)"
   ]
  },
  {
   "cell_type": "markdown",
   "metadata": {},
   "source": [
    "### 编程题（2个）\n",
    "\n",
    "根据题干要求，编写完整代码（可以尝试一题多解）。"
   ]
  },
  {
   "cell_type": "markdown",
   "metadata": {},
   "source": [
    "##### 题目 01-11\n",
    "\n",
    "编写一个程序，计算给定列表 $[0.12, 0.15, 0.17]$ 中所有元素的平均值，并将结果打印出来，保留两位小数。输出格式：“平均值为: xxx.xx”"
   ]
  },
  {
   "cell_type": "code",
   "execution_count": 11,
   "metadata": {},
   "outputs": [
    {
     "name": "stdout",
     "output_type": "stream",
     "text": [
      "平均值为: 0.15\n",
      "平均值为: 0.15\n",
      "平均值为: 0.15\n",
      "平均值为: 0.15\n"
     ]
    }
   ],
   "source": [
    "numbers = [0.12, 0.15, 0.17]\n",
    "\n",
    "# now, code it by yourself\n",
    "total = sum(numbers)\n",
    "count = len(numbers)\n",
    "average = total / count\n",
    "print(f\"平均值为: {average:.2f}\")\n",
    "print(\"平均值为: {:.2f}\".format(average))\n",
    "\n",
    "print(f\"平均值为: {sum(numbers)/len(numbers):.2f}\")\n",
    "\n",
    "print(\"平均值为:\", round(average, 2))"
   ]
  },
  {
   "cell_type": "markdown",
   "metadata": {},
   "source": [
    "##### 题目 01-12\n",
    "\n",
    "编写一个程序，交换给定列表 $[1, 2, 3, 4, 5]$ 中指定位置 0 和 1 的两个元素，并将交换后的列表打印出来。"
   ]
  },
  {
   "cell_type": "code",
   "execution_count": 12,
   "metadata": {},
   "outputs": [
    {
     "name": "stdout",
     "output_type": "stream",
     "text": [
      "[2, 1, 3, 4, 5]\n"
     ]
    }
   ],
   "source": [
    "num = [1, 2, 3, 4, 5]\n",
    "index1 = 0\n",
    "index2 = 1\n",
    "\n",
    "# now, code it by yourself\n",
    "temp = num[index1]\n",
    "num[index1] = num[index2]\n",
    "num[index2] = temp\n",
    "print(num)"
   ]
  },
  {
   "cell_type": "code",
   "execution_count": 13,
   "metadata": {},
   "outputs": [
    {
     "name": "stdout",
     "output_type": "stream",
     "text": [
      "[2, 1, 3, 4, 5]\n"
     ]
    }
   ],
   "source": [
    "num = [1, 2, 3, 4, 5]\n",
    "print(num[:2][::-1]+num[2:])"
   ]
  }
 ],
 "metadata": {
  "kernelspec": {
   "display_name": "hjy",
   "language": "python",
   "name": "python3"
  },
  "language_info": {
   "codemirror_mode": {
    "name": "ipython",
    "version": 3
   },
   "file_extension": ".py",
   "mimetype": "text/x-python",
   "name": "python",
   "nbconvert_exporter": "python",
   "pygments_lexer": "ipython3",
   "version": "3.9.16"
  }
 },
 "nbformat": 4,
 "nbformat_minor": 2
}
